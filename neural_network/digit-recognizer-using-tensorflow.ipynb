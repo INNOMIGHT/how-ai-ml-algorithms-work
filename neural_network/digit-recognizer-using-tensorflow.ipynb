{
 "cells": [
  {
   "cell_type": "code",
   "execution_count": null,
   "id": "0e2515ff",
   "metadata": {
    "_cell_guid": "b1076dfc-b9ad-4769-8c92-a6c4dae69d19",
    "_uuid": "8f2839f25d086af736a60e9eeb907d3b93b6e0e5",
    "execution": {
     "iopub.execute_input": "2024-08-23T07:14:11.057604Z",
     "iopub.status.busy": "2024-08-23T07:14:11.057118Z",
     "iopub.status.idle": "2024-08-23T07:14:11.526347Z",
     "shell.execute_reply": "2024-08-23T07:14:11.525127Z"
    },
    "papermill": {
     "duration": 0.480763,
     "end_time": "2024-08-23T07:14:11.529409",
     "exception": false,
     "start_time": "2024-08-23T07:14:11.048646",
     "status": "completed"
    },
    "tags": []
   },
   "outputs": [],
   "source": []
  },
  {
   "cell_type": "code",
   "execution_count": 1,
   "id": "29b0a78d",
   "metadata": {
    "execution": {
     "iopub.execute_input": "2024-08-23T07:14:11.545519Z",
     "iopub.status.busy": "2024-08-23T07:14:11.544921Z",
     "iopub.status.idle": "2024-08-23T07:14:27.230899Z",
     "shell.execute_reply": "2024-08-23T07:14:27.229749Z"
    },
    "papermill": {
     "duration": 15.697502,
     "end_time": "2024-08-23T07:14:27.233921",
     "exception": false,
     "start_time": "2024-08-23T07:14:11.536419",
     "status": "completed"
    },
    "tags": []
   },
   "outputs": [],
   "source": [
    "import tensorflow as tf\n",
    "import numpy  as np\n",
    "import matplotlib.pyplot as plt"
   ]
  },
  {
   "cell_type": "code",
   "execution_count": 2,
   "id": "57ab1df4",
   "metadata": {
    "execution": {
     "iopub.execute_input": "2024-08-23T07:14:27.248924Z",
     "iopub.status.busy": "2024-08-23T07:14:27.248206Z",
     "iopub.status.idle": "2024-08-23T07:14:27.254045Z",
     "shell.execute_reply": "2024-08-23T07:14:27.252806Z"
    },
    "papermill": {
     "duration": 0.016019,
     "end_time": "2024-08-23T07:14:27.256539",
     "exception": false,
     "start_time": "2024-08-23T07:14:27.240520",
     "status": "completed"
    },
    "tags": []
   },
   "outputs": [],
   "source": [
    "from keras import layers, models"
   ]
  },
  {
   "cell_type": "code",
   "execution_count": 3,
   "id": "3d1cbaab",
   "metadata": {
    "execution": {
     "iopub.execute_input": "2024-08-23T07:14:27.271456Z",
     "iopub.status.busy": "2024-08-23T07:14:27.270990Z",
     "iopub.status.idle": "2024-08-23T07:14:27.884594Z",
     "shell.execute_reply": "2024-08-23T07:14:27.883285Z"
    },
    "papermill": {
     "duration": 0.624361,
     "end_time": "2024-08-23T07:14:27.887537",
     "exception": false,
     "start_time": "2024-08-23T07:14:27.263176",
     "status": "completed"
    },
    "tags": []
   },
   "outputs": [],
   "source": [
    "# Load the MNIST dataset\n",
    "(X_train, Y_train), (X_test, Y_test) = tf.keras.datasets.mnist.load_data()"
   ]
  },
  {
   "cell_type": "code",
   "execution_count": 4,
   "id": "a3077e6a",
   "metadata": {
    "execution": {
     "iopub.execute_input": "2024-08-23T07:14:27.903919Z",
     "iopub.status.busy": "2024-08-23T07:14:27.903357Z",
     "iopub.status.idle": "2024-08-23T07:14:27.913678Z",
     "shell.execute_reply": "2024-08-23T07:14:27.912358Z"
    },
    "papermill": {
     "duration": 0.021595,
     "end_time": "2024-08-23T07:14:27.916591",
     "exception": false,
     "start_time": "2024-08-23T07:14:27.894996",
     "status": "completed"
    },
    "tags": []
   },
   "outputs": [
    {
     "data": {
      "text/plain": [
       "(60000, 28, 28)"
      ]
     },
     "execution_count": 4,
     "metadata": {},
     "output_type": "execute_result"
    }
   ],
   "source": [
    "X_train.shape"
   ]
  },
  {
   "cell_type": "code",
   "execution_count": 5,
   "id": "cc275506",
   "metadata": {
    "execution": {
     "iopub.execute_input": "2024-08-23T07:14:27.937265Z",
     "iopub.status.busy": "2024-08-23T07:14:27.936219Z",
     "iopub.status.idle": "2024-08-23T07:14:27.952867Z",
     "shell.execute_reply": "2024-08-23T07:14:27.951535Z"
    },
    "papermill": {
     "duration": 0.029536,
     "end_time": "2024-08-23T07:14:27.955795",
     "exception": false,
     "start_time": "2024-08-23T07:14:27.926259",
     "status": "completed"
    },
    "tags": []
   },
   "outputs": [
    {
     "data": {
      "text/plain": [
       "array([5, 0, 4, ..., 5, 6, 8], dtype=uint8)"
      ]
     },
     "execution_count": 5,
     "metadata": {},
     "output_type": "execute_result"
    }
   ],
   "source": [
    "Y_train"
   ]
  },
  {
   "cell_type": "code",
   "execution_count": 6,
   "id": "2f69bdb1",
   "metadata": {
    "execution": {
     "iopub.execute_input": "2024-08-23T07:14:27.977605Z",
     "iopub.status.busy": "2024-08-23T07:14:27.976484Z",
     "iopub.status.idle": "2024-08-23T07:14:27.984401Z",
     "shell.execute_reply": "2024-08-23T07:14:27.983158Z"
    },
    "papermill": {
     "duration": 0.021121,
     "end_time": "2024-08-23T07:14:27.986775",
     "exception": false,
     "start_time": "2024-08-23T07:14:27.965654",
     "status": "completed"
    },
    "tags": []
   },
   "outputs": [
    {
     "data": {
      "text/plain": [
       "(60000,)"
      ]
     },
     "execution_count": 6,
     "metadata": {},
     "output_type": "execute_result"
    }
   ],
   "source": [
    "Y_train.shape"
   ]
  },
  {
   "cell_type": "code",
   "execution_count": 7,
   "id": "d6465ee0",
   "metadata": {
    "execution": {
     "iopub.execute_input": "2024-08-23T07:14:28.004005Z",
     "iopub.status.busy": "2024-08-23T07:14:28.003454Z",
     "iopub.status.idle": "2024-08-23T07:14:28.216774Z",
     "shell.execute_reply": "2024-08-23T07:14:28.215551Z"
    },
    "papermill": {
     "duration": 0.225994,
     "end_time": "2024-08-23T07:14:28.219997",
     "exception": false,
     "start_time": "2024-08-23T07:14:27.994003",
     "status": "completed"
    },
    "tags": []
   },
   "outputs": [],
   "source": [
    "# Normalize the pixel values to the range 0-1\n",
    "X_train, X_test = X_train / 255.0, X_test / 255.0\n",
    "\n",
    "# Flatten the 28x28 images into 784-dimensional vectors\n",
    "X_train = X_train.reshape(-1, 784)\n",
    "X_test = X_test.reshape(-1, 784)\n",
    "\n",
    "# Convert labels to one-hot encoding\n",
    "Y_train = tf.keras.utils.to_categorical(Y_train, 10)\n",
    "Y_test = tf.keras.utils.to_categorical(Y_test, 10)"
   ]
  },
  {
   "cell_type": "code",
   "execution_count": 8,
   "id": "1e4db249",
   "metadata": {
    "execution": {
     "iopub.execute_input": "2024-08-23T07:14:28.242576Z",
     "iopub.status.busy": "2024-08-23T07:14:28.242069Z",
     "iopub.status.idle": "2024-08-23T07:14:28.249625Z",
     "shell.execute_reply": "2024-08-23T07:14:28.248500Z"
    },
    "papermill": {
     "duration": 0.022187,
     "end_time": "2024-08-23T07:14:28.252702",
     "exception": false,
     "start_time": "2024-08-23T07:14:28.230515",
     "status": "completed"
    },
    "tags": []
   },
   "outputs": [
    {
     "data": {
      "text/plain": [
       "(60000, 784)"
      ]
     },
     "execution_count": 8,
     "metadata": {},
     "output_type": "execute_result"
    }
   ],
   "source": [
    "X_train.shape\n",
    "\n",
    "# before it was 28 x 28 which comes out to be 784, now it is sequentially arranged."
   ]
  },
  {
   "cell_type": "code",
   "execution_count": 9,
   "id": "80e61a39",
   "metadata": {
    "execution": {
     "iopub.execute_input": "2024-08-23T07:14:28.274641Z",
     "iopub.status.busy": "2024-08-23T07:14:28.273678Z",
     "iopub.status.idle": "2024-08-23T07:14:28.285086Z",
     "shell.execute_reply": "2024-08-23T07:14:28.281390Z"
    },
    "papermill": {
     "duration": 0.026053,
     "end_time": "2024-08-23T07:14:28.288586",
     "exception": false,
     "start_time": "2024-08-23T07:14:28.262533",
     "status": "completed"
    },
    "tags": []
   },
   "outputs": [
    {
     "data": {
      "text/plain": [
       "(60000, 10)"
      ]
     },
     "execution_count": 9,
     "metadata": {},
     "output_type": "execute_result"
    }
   ],
   "source": [
    "Y_train.shape"
   ]
  },
  {
   "cell_type": "code",
   "execution_count": 10,
   "id": "9930748e",
   "metadata": {
    "execution": {
     "iopub.execute_input": "2024-08-23T07:14:28.305724Z",
     "iopub.status.busy": "2024-08-23T07:14:28.305152Z",
     "iopub.status.idle": "2024-08-23T07:14:28.315680Z",
     "shell.execute_reply": "2024-08-23T07:14:28.314492Z"
    },
    "papermill": {
     "duration": 0.021988,
     "end_time": "2024-08-23T07:14:28.318188",
     "exception": false,
     "start_time": "2024-08-23T07:14:28.296200",
     "status": "completed"
    },
    "tags": []
   },
   "outputs": [
    {
     "data": {
      "text/plain": [
       "array([[0., 0., 0., ..., 0., 0., 0.],\n",
       "       [1., 0., 0., ..., 0., 0., 0.],\n",
       "       [0., 0., 0., ..., 0., 0., 0.],\n",
       "       ...,\n",
       "       [0., 0., 0., ..., 0., 0., 0.],\n",
       "       [0., 0., 0., ..., 0., 0., 0.],\n",
       "       [0., 0., 0., ..., 0., 1., 0.]])"
      ]
     },
     "execution_count": 10,
     "metadata": {},
     "output_type": "execute_result"
    }
   ],
   "source": [
    "Y_train"
   ]
  },
  {
   "cell_type": "code",
   "execution_count": 11,
   "id": "cfe9e0c9",
   "metadata": {
    "execution": {
     "iopub.execute_input": "2024-08-23T07:14:28.336105Z",
     "iopub.status.busy": "2024-08-23T07:14:28.335563Z",
     "iopub.status.idle": "2024-08-23T07:14:28.433056Z",
     "shell.execute_reply": "2024-08-23T07:14:28.431801Z"
    },
    "papermill": {
     "duration": 0.1097,
     "end_time": "2024-08-23T07:14:28.435859",
     "exception": false,
     "start_time": "2024-08-23T07:14:28.326159",
     "status": "completed"
    },
    "tags": []
   },
   "outputs": [],
   "source": [
    "# build nueral network model\n",
    "\n",
    "from keras import Input, Sequential\n",
    "from keras.layers import Dense\n",
    "\n",
    "\n",
    "model = Sequential([\n",
    "    Input(shape=(784,)),  # Define the input shape using the Input layer\n",
    "    Dense(128, activation='relu'),\n",
    "    Dense(10, activation='softmax')\n",
    "])"
   ]
  },
  {
   "cell_type": "code",
   "execution_count": 12,
   "id": "57c6bbca",
   "metadata": {
    "execution": {
     "iopub.execute_input": "2024-08-23T07:14:28.452998Z",
     "iopub.status.busy": "2024-08-23T07:14:28.452566Z",
     "iopub.status.idle": "2024-08-23T07:14:28.468242Z",
     "shell.execute_reply": "2024-08-23T07:14:28.467097Z"
    },
    "papermill": {
     "duration": 0.027781,
     "end_time": "2024-08-23T07:14:28.471422",
     "exception": false,
     "start_time": "2024-08-23T07:14:28.443641",
     "status": "completed"
    },
    "tags": []
   },
   "outputs": [],
   "source": [
    "# Compile the model\n",
    "model.compile(optimizer='adam',\n",
    "              loss='categorical_crossentropy',\n",
    "              metrics=['accuracy'])"
   ]
  },
  {
   "cell_type": "code",
   "execution_count": 13,
   "id": "24ff53fe",
   "metadata": {
    "execution": {
     "iopub.execute_input": "2024-08-23T07:14:28.494371Z",
     "iopub.status.busy": "2024-08-23T07:14:28.493223Z",
     "iopub.status.idle": "2024-08-23T07:15:31.650086Z",
     "shell.execute_reply": "2024-08-23T07:15:31.648681Z"
    },
    "papermill": {
     "duration": 63.17093,
     "end_time": "2024-08-23T07:15:31.653209",
     "exception": false,
     "start_time": "2024-08-23T07:14:28.482279",
     "status": "completed"
    },
    "tags": []
   },
   "outputs": [
    {
     "name": "stdout",
     "output_type": "stream",
     "text": [
      "Epoch 1/10\n",
      "\u001b[1m1875/1875\u001b[0m \u001b[32m━━━━━━━━━━━━━━━━━━━━\u001b[0m\u001b[37m\u001b[0m \u001b[1m2s\u001b[0m 713us/step - accuracy: 0.8745 - loss: 0.4416 - val_accuracy: 0.9577 - val_loss: 0.1407\n",
      "Epoch 2/10\n",
      "\u001b[1m1875/1875\u001b[0m \u001b[32m━━━━━━━━━━━━━━━━━━━━\u001b[0m\u001b[37m\u001b[0m \u001b[1m1s\u001b[0m 651us/step - accuracy: 0.9641 - loss: 0.1199 - val_accuracy: 0.9692 - val_loss: 0.1023\n",
      "Epoch 3/10\n",
      "\u001b[1m1875/1875\u001b[0m \u001b[32m━━━━━━━━━━━━━━━━━━━━\u001b[0m\u001b[37m\u001b[0m \u001b[1m1s\u001b[0m 620us/step - accuracy: 0.9779 - loss: 0.0762 - val_accuracy: 0.9741 - val_loss: 0.0833\n",
      "Epoch 4/10\n",
      "\u001b[1m1875/1875\u001b[0m \u001b[32m━━━━━━━━━━━━━━━━━━━━\u001b[0m\u001b[37m\u001b[0m \u001b[1m1s\u001b[0m 655us/step - accuracy: 0.9832 - loss: 0.0560 - val_accuracy: 0.9767 - val_loss: 0.0745\n",
      "Epoch 5/10\n",
      "\u001b[1m1875/1875\u001b[0m \u001b[32m━━━━━━━━━━━━━━━━━━━━\u001b[0m\u001b[37m\u001b[0m \u001b[1m1s\u001b[0m 652us/step - accuracy: 0.9875 - loss: 0.0431 - val_accuracy: 0.9754 - val_loss: 0.0748\n",
      "Epoch 6/10\n",
      "\u001b[1m1875/1875\u001b[0m \u001b[32m━━━━━━━━━━━━━━━━━━━━\u001b[0m\u001b[37m\u001b[0m \u001b[1m1s\u001b[0m 650us/step - accuracy: 0.9902 - loss: 0.0334 - val_accuracy: 0.9787 - val_loss: 0.0682\n",
      "Epoch 7/10\n",
      "\u001b[1m1875/1875\u001b[0m \u001b[32m━━━━━━━━━━━━━━━━━━━━\u001b[0m\u001b[37m\u001b[0m \u001b[1m1s\u001b[0m 628us/step - accuracy: 0.9922 - loss: 0.0255 - val_accuracy: 0.9770 - val_loss: 0.0710\n",
      "Epoch 8/10\n",
      "\u001b[1m1875/1875\u001b[0m \u001b[32m━━━━━━━━━━━━━━━━━━━━\u001b[0m\u001b[37m\u001b[0m \u001b[1m1s\u001b[0m 637us/step - accuracy: 0.9933 - loss: 0.0217 - val_accuracy: 0.9792 - val_loss: 0.0716\n",
      "Epoch 9/10\n",
      "\u001b[1m1875/1875\u001b[0m \u001b[32m━━━━━━━━━━━━━━━━━━━━\u001b[0m\u001b[37m\u001b[0m \u001b[1m1s\u001b[0m 635us/step - accuracy: 0.9953 - loss: 0.0174 - val_accuracy: 0.9781 - val_loss: 0.0725\n",
      "Epoch 10/10\n",
      "\u001b[1m1875/1875\u001b[0m \u001b[32m━━━━━━━━━━━━━━━━━━━━\u001b[0m\u001b[37m\u001b[0m \u001b[1m1s\u001b[0m 633us/step - accuracy: 0.9961 - loss: 0.0133 - val_accuracy: 0.9770 - val_loss: 0.0859\n"
     ]
    },
    {
     "data": {
      "text/plain": [
       "<keras.src.callbacks.history.History at 0x1de69c9d9d0>"
      ]
     },
     "execution_count": 13,
     "metadata": {},
     "output_type": "execute_result"
    }
   ],
   "source": [
    "# Train the model\n",
    "\n",
    "model.fit(X_train, Y_train, epochs=10, batch_size=32, validation_data=(X_test, Y_test))"
   ]
  },
  {
   "cell_type": "code",
   "execution_count": 14,
   "id": "1357f906",
   "metadata": {
    "execution": {
     "iopub.execute_input": "2024-08-23T07:15:31.884119Z",
     "iopub.status.busy": "2024-08-23T07:15:31.883590Z",
     "iopub.status.idle": "2024-08-23T07:15:32.493138Z",
     "shell.execute_reply": "2024-08-23T07:15:32.491724Z"
    },
    "papermill": {
     "duration": 0.726916,
     "end_time": "2024-08-23T07:15:32.496076",
     "exception": false,
     "start_time": "2024-08-23T07:15:31.769160",
     "status": "completed"
    },
    "tags": []
   },
   "outputs": [
    {
     "name": "stdout",
     "output_type": "stream",
     "text": [
      "313/313 - 0s - 360us/step - accuracy: 0.9770 - loss: 0.0859\n",
      "\n",
      "Test accuracy: 0.9769999980926514\n"
     ]
    }
   ],
   "source": [
    "# evaluate the model\n",
    "\n",
    "test_loss, test_acc = model.evaluate(X_test, Y_test, verbose=2)\n",
    "print(f'\\nTest accuracy: {test_acc}')"
   ]
  },
  {
   "cell_type": "code",
   "execution_count": 15,
   "id": "2e0c5f72",
   "metadata": {
    "execution": {
     "iopub.execute_input": "2024-08-23T07:15:32.726275Z",
     "iopub.status.busy": "2024-08-23T07:15:32.725783Z",
     "iopub.status.idle": "2024-08-23T07:15:33.857236Z",
     "shell.execute_reply": "2024-08-23T07:15:33.856079Z"
    },
    "papermill": {
     "duration": 1.251379,
     "end_time": "2024-08-23T07:15:33.859875",
     "exception": false,
     "start_time": "2024-08-23T07:15:32.608496",
     "status": "completed"
    },
    "tags": []
   },
   "outputs": [
    {
     "name": "stdout",
     "output_type": "stream",
     "text": [
      "\u001b[1m313/313\u001b[0m \u001b[32m━━━━━━━━━━━━━━━━━━━━\u001b[0m\u001b[37m\u001b[0m \u001b[1m0s\u001b[0m 401us/step\n",
      "Predicted Label: 7, True Label: 7\n"
     ]
    },
    {
     "data": {
      "image/png": "[encoded data removed]",
      "text/plain": [
       "<Figure size 640x480 with 1 Axes>"
      ]
     },
     "metadata": {},
     "output_type": "display_data"
    }
   ],
   "source": [
    "predictions = model.predict(X_test)\n",
    "\n",
    "# Get the predicted class for the first image in the test set\n",
    "predicted_label = np.argmax(predictions[0])\n",
    "true_label = np.argmax(Y_test[0])\n",
    "\n",
    "print(f'Predicted Label: {predicted_label}, True Label: {true_label}')\n",
    "\n",
    "# Visualize the first image in the test set\n",
    "current_image = X_test[0].reshape(28, 28) * 255\n",
    "plt.gray()\n",
    "plt.imshow(current_image, interpolation='nearest')\n",
    "plt.title(f'Predicted: {predicted_label}, True: {true_label}')\n",
    "plt.show()\n"
   ]
  },
  {
   "cell_type": "code",
   "execution_count": null,
   "id": "4c3af0a2",
   "metadata": {
    "papermill": {
     "duration": 0.115659,
     "end_time": "2024-08-23T07:15:34.090566",
     "exception": false,
     "start_time": "2024-08-23T07:15:33.974907",
     "status": "completed"
    },
    "tags": []
   },
   "outputs": [],
   "source": []
  }
 ],
 "metadata": {
  "kaggle": {
   "accelerator": "none",
   "dataSources": [],
   "dockerImageVersionId": 30761,
   "isGpuEnabled": false,
   "isInternetEnabled": true,
   "language": "python",
   "sourceType": "notebook"
  },
  "kernelspec": {
   "display_name": "Python 3",
   "language": "python",
   "name": "python3"
  },
  "language_info": {
   "codemirror_mode": {
    "name": "ipython",
    "version": 3
   },
   "file_extension": ".py",
   "mimetype": "text/x-python",
   "name": "python",
   "nbconvert_exporter": "python",
   "pygments_lexer": "ipython3",
   "version": "3.12.7"
  },
  "papermill": {
   "default_parameters": {},
   "duration": 88.067006,
   "end_time": "2024-08-23T07:15:35.830909",
   "environment_variables": {},
   "exception": null,
   "input_path": "__notebook__.ipynb",
   "output_path": "__notebook__.ipynb",
   "parameters": {},
   "start_time": "2024-08-23T07:14:07.763903",
   "version": "2.6.0"
  }
 },
 "nbformat": 4,
 "nbformat_minor": 5
}
