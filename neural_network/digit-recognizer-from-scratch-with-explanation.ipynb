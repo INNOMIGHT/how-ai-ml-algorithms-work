{
 "cells": [
  {
   "cell_type": "code",
   "execution_count": null,
   "id": "73b0f77a",
   "metadata": {
    "_cell_guid": "b1076dfc-b9ad-4769-8c92-a6c4dae69d19",
    "_uuid": "8f2839f25d086af736a60e9eeb907d3b93b6e0e5",
    "execution": {
     "iopub.execute_input": "2024-08-23T06:21:05.152040Z",
     "iopub.status.busy": "2024-08-23T06:21:05.150775Z",
     "iopub.status.idle": "2024-08-23T06:21:05.565946Z",
     "shell.execute_reply": "2024-08-23T06:21:05.564623Z"
    },
    "papermill": {
     "duration": 0.42692,
     "end_time": "2024-08-23T06:21:05.568339",
     "exception": false,
     "start_time": "2024-08-23T06:21:05.141419",
     "status": "completed"
    },
    "tags": []
   },
   "outputs": [],
   "source": []
  },
  {
   "cell_type": "code",
   "execution_count": 1,
   "id": "dc6e573f",
   "metadata": {
    "execution": {
     "iopub.execute_input": "2024-08-23T06:21:05.584367Z",
     "iopub.status.busy": "2024-08-23T06:21:05.583780Z",
     "iopub.status.idle": "2024-08-23T06:21:09.040612Z",
     "shell.execute_reply": "2024-08-23T06:21:09.039122Z"
    },
    "papermill": {
     "duration": 3.467948,
     "end_time": "2024-08-23T06:21:09.043468",
     "exception": false,
     "start_time": "2024-08-23T06:21:05.575520",
     "status": "completed"
    },
    "tags": []
   },
   "outputs": [],
   "source": [
    "import numpy as np\n",
    "import pandas as pd\n",
    "from matplotlib import pyplot as plt\n",
    "\n",
    "data = pd.read_csv('train.csv')"
   ]
  },
  {
   "cell_type": "code",
   "execution_count": 2,
   "id": "b9f8650f",
   "metadata": {
    "execution": {
     "iopub.execute_input": "2024-08-23T06:21:09.059468Z",
     "iopub.status.busy": "2024-08-23T06:21:09.059009Z",
     "iopub.status.idle": "2024-08-23T06:21:09.117353Z",
     "shell.execute_reply": "2024-08-23T06:21:09.115890Z"
    },
    "papermill": {
     "duration": 0.069443,
     "end_time": "2024-08-23T06:21:09.120107",
     "exception": false,
     "start_time": "2024-08-23T06:21:09.050664",
     "status": "completed"
    },
    "tags": []
   },
   "outputs": [
    {
     "name": "stdout",
     "output_type": "stream",
     "text": [
      "<class 'pandas.core.frame.DataFrame'>\n",
      "RangeIndex: 42000 entries, 0 to 41999\n",
      "Columns: 785 entries, label to pixel783\n",
      "dtypes: int64(785)\n",
      "memory usage: 251.5 MB\n"
     ]
    }
   ],
   "source": [
    "data.info()"
   ]
  },
  {
   "cell_type": "code",
   "execution_count": 3,
   "id": "403ef372",
   "metadata": {
    "execution": {
     "iopub.execute_input": "2024-08-23T06:21:09.136850Z",
     "iopub.status.busy": "2024-08-23T06:21:09.136419Z",
     "iopub.status.idle": "2024-08-23T06:21:09.915592Z",
     "shell.execute_reply": "2024-08-23T06:21:09.914554Z"
    },
    "papermill": {
     "duration": 0.790435,
     "end_time": "2024-08-23T06:21:09.918285",
     "exception": false,
     "start_time": "2024-08-23T06:21:09.127850",
     "status": "completed"
    },
    "tags": []
   },
   "outputs": [],
   "source": [
    "data = np.array(data)\n",
    "m, n = data.shape\n",
    "np.random.shuffle(data) # shuffle before splitting into dev and training sets\n",
    "\n",
    "data_dev = data[0:1000].T\n",
    "Y_dev = data_dev[0]\n",
    "X_dev = data_dev[1:n]\n",
    "X_dev = X_dev / 255.\n",
    "\n",
    "data_train = data[1000:m].T\n",
    "Y_train = data_train[0]\n",
    "X_train = data_train[1:n]\n",
    "X_train = X_train / 255.\n",
    "_,m_train = X_train.shape"
   ]
  },
  {
   "cell_type": "code",
   "execution_count": 4,
   "id": "e2a05e6a",
   "metadata": {
    "execution": {
     "iopub.execute_input": "2024-08-23T06:21:09.934311Z",
     "iopub.status.busy": "2024-08-23T06:21:09.933622Z",
     "iopub.status.idle": "2024-08-23T06:21:09.943585Z",
     "shell.execute_reply": "2024-08-23T06:21:09.942347Z"
    },
    "papermill": {
     "duration": 0.020425,
     "end_time": "2024-08-23T06:21:09.945789",
     "exception": false,
     "start_time": "2024-08-23T06:21:09.925364",
     "status": "completed"
    },
    "tags": []
   },
   "outputs": [
    {
     "data": {
      "text/plain": [
       "array([[3, 0, 0, ..., 0, 0, 0],\n",
       "       [3, 0, 0, ..., 0, 0, 0],\n",
       "       [5, 0, 0, ..., 0, 0, 0],\n",
       "       ...,\n",
       "       [9, 0, 0, ..., 0, 0, 0],\n",
       "       [0, 0, 0, ..., 0, 0, 0],\n",
       "       [5, 0, 0, ..., 0, 0, 0]], dtype=int64)"
      ]
     },
     "execution_count": 4,
     "metadata": {},
     "output_type": "execute_result"
    }
   ],
   "source": [
    "data"
   ]
  },
  {
   "cell_type": "code",
   "execution_count": 5,
   "id": "8551b6c5",
   "metadata": {
    "execution": {
     "iopub.execute_input": "2024-08-23T06:21:09.961670Z",
     "iopub.status.busy": "2024-08-23T06:21:09.961267Z",
     "iopub.status.idle": "2024-08-23T06:21:09.968447Z",
     "shell.execute_reply": "2024-08-23T06:21:09.967401Z"
    },
    "papermill": {
     "duration": 0.017515,
     "end_time": "2024-08-23T06:21:09.970544",
     "exception": false,
     "start_time": "2024-08-23T06:21:09.953029",
     "status": "completed"
    },
    "tags": []
   },
   "outputs": [
    {
     "data": {
      "text/plain": [
       "array([8, 8, 9, ..., 9, 0, 5], dtype=int64)"
      ]
     },
     "execution_count": 5,
     "metadata": {},
     "output_type": "execute_result"
    }
   ],
   "source": [
    "data_train[0]"
   ]
  },
  {
   "cell_type": "code",
   "execution_count": 6,
   "id": "0dbfb62c",
   "metadata": {
    "execution": {
     "iopub.execute_input": "2024-08-23T06:21:09.986500Z",
     "iopub.status.busy": "2024-08-23T06:21:09.986092Z",
     "iopub.status.idle": "2024-08-23T06:21:09.993765Z",
     "shell.execute_reply": "2024-08-23T06:21:09.992602Z"
    },
    "papermill": {
     "duration": 0.018133,
     "end_time": "2024-08-23T06:21:09.995922",
     "exception": false,
     "start_time": "2024-08-23T06:21:09.977789",
     "status": "completed"
    },
    "tags": []
   },
   "outputs": [
    {
     "data": {
      "text/plain": [
       "array([0., 0., 0., ..., 0., 0., 0.])"
      ]
     },
     "execution_count": 6,
     "metadata": {},
     "output_type": "execute_result"
    }
   ],
   "source": [
    "X_train[2]"
   ]
  },
  {
   "cell_type": "code",
   "execution_count": 7,
   "id": "3bab72cb",
   "metadata": {
    "execution": {
     "iopub.execute_input": "2024-08-23T06:21:10.012345Z",
     "iopub.status.busy": "2024-08-23T06:21:10.011893Z",
     "iopub.status.idle": "2024-08-23T06:21:10.019183Z",
     "shell.execute_reply": "2024-08-23T06:21:10.018044Z"
    },
    "papermill": {
     "duration": 0.018142,
     "end_time": "2024-08-23T06:21:10.021440",
     "exception": false,
     "start_time": "2024-08-23T06:21:10.003298",
     "status": "completed"
    },
    "tags": []
   },
   "outputs": [
    {
     "data": {
      "text/plain": [
       "8"
      ]
     },
     "execution_count": 7,
     "metadata": {},
     "output_type": "execute_result"
    }
   ],
   "source": [
    "Y_train[0]"
   ]
  },
  {
   "cell_type": "code",
   "execution_count": 8,
   "id": "6f39a80a",
   "metadata": {
    "execution": {
     "iopub.execute_input": "2024-08-23T06:21:10.038528Z",
     "iopub.status.busy": "2024-08-23T06:21:10.038117Z",
     "iopub.status.idle": "2024-08-23T06:21:10.044069Z",
     "shell.execute_reply": "2024-08-23T06:21:10.042902Z"
    },
    "papermill": {
     "duration": 0.017353,
     "end_time": "2024-08-23T06:21:10.046305",
     "exception": false,
     "start_time": "2024-08-23T06:21:10.028952",
     "status": "completed"
    },
    "tags": []
   },
   "outputs": [],
   "source": [
    "def init_params():\n",
    "    W1 = np.random.rand(10, 784) - 0.5\n",
    "    b1 = np.random.rand(10, 1) - 0.5\n",
    "    W2 = np.random.rand(10, 10) - 0.5\n",
    "    b2 = np.random.rand(10, 1) - 0.5\n",
    "    return W1, b1, W2, b2\n",
    "\n",
    "# W1: The weight matrix for the first layer (hidden layer), shape (10, 784). It maps the 784 input features to 10 hidden units.\n",
    "# b1: The bias vector for the first layer, shape (10, 1).\n",
    "# W2: The weight matrix for the second layer (output layer), shape (10, 10). It maps the 10 hidden units to 10 output units (for the 10 digit classes).\n",
    "# b2: The bias vector for the second layer, shape (10, 1)."
   ]
  },
  {
   "cell_type": "code",
   "execution_count": 9,
   "id": "87b6cfd8",
   "metadata": {
    "execution": {
     "iopub.execute_input": "2024-08-23T06:21:10.063065Z",
     "iopub.status.busy": "2024-08-23T06:21:10.062650Z",
     "iopub.status.idle": "2024-08-23T06:21:10.067853Z",
     "shell.execute_reply": "2024-08-23T06:21:10.066750Z"
    },
    "papermill": {
     "duration": 0.016401,
     "end_time": "2024-08-23T06:21:10.070268",
     "exception": false,
     "start_time": "2024-08-23T06:21:10.053867",
     "status": "completed"
    },
    "tags": []
   },
   "outputs": [],
   "source": [
    "def ReLU(Z):\n",
    "    return np.maximum(Z, 0)\n",
    "\n",
    "# This function outputs Z directly if Z is positive; otherwise, it outputs 0.\n",
    "# Why: ReLU introduces non-linearity into the model, helping the neural network learn more complex patterns. It also helps mitigate the vanishing gradient problem."
   ]
  },
  {
   "cell_type": "code",
   "execution_count": 10,
   "id": "041ea155",
   "metadata": {
    "execution": {
     "iopub.execute_input": "2024-08-23T06:21:10.087708Z",
     "iopub.status.busy": "2024-08-23T06:21:10.086643Z",
     "iopub.status.idle": "2024-08-23T06:21:10.095192Z",
     "shell.execute_reply": "2024-08-23T06:21:10.093891Z"
    },
    "papermill": {
     "duration": 0.019643,
     "end_time": "2024-08-23T06:21:10.097477",
     "exception": false,
     "start_time": "2024-08-23T06:21:10.077834",
     "status": "completed"
    },
    "tags": []
   },
   "outputs": [
    {
     "data": {
      "text/plain": [
       "array([  2.71828183,   7.3890561 ,  20.08553692,  54.59815003,\n",
       "       148.4131591 ])"
      ]
     },
     "execution_count": 10,
     "metadata": {},
     "output_type": "execute_result"
    }
   ],
   "source": [
    "np.exp([1, 2, 3, 4, 5])"
   ]
  },
  {
   "cell_type": "code",
   "execution_count": 11,
   "id": "e472c63b",
   "metadata": {
    "execution": {
     "iopub.execute_input": "2024-08-23T06:21:10.114535Z",
     "iopub.status.busy": "2024-08-23T06:21:10.114118Z",
     "iopub.status.idle": "2024-08-23T06:21:10.121505Z",
     "shell.execute_reply": "2024-08-23T06:21:10.120369Z"
    },
    "papermill": {
     "duration": 0.018463,
     "end_time": "2024-08-23T06:21:10.123781",
     "exception": false,
     "start_time": "2024-08-23T06:21:10.105318",
     "status": "completed"
    },
    "tags": []
   },
   "outputs": [
    {
     "data": {
      "text/plain": [
       "233.2041839862982"
      ]
     },
     "execution_count": 11,
     "metadata": {},
     "output_type": "execute_result"
    }
   ],
   "source": [
    "sum(np.exp([1, 2, 3, 4, 5]))"
   ]
  },
  {
   "cell_type": "code",
   "execution_count": 12,
   "id": "309a6d10",
   "metadata": {
    "execution": {
     "iopub.execute_input": "2024-08-23T06:21:10.140824Z",
     "iopub.status.busy": "2024-08-23T06:21:10.140410Z",
     "iopub.status.idle": "2024-08-23T06:21:10.145063Z",
     "shell.execute_reply": "2024-08-23T06:21:10.143960Z"
    },
    "papermill": {
     "duration": 0.015885,
     "end_time": "2024-08-23T06:21:10.147325",
     "exception": false,
     "start_time": "2024-08-23T06:21:10.131440",
     "status": "completed"
    },
    "tags": []
   },
   "outputs": [],
   "source": [
    "# The value of \n",
    "# e, also known as Euler's number, is approximately:\n",
    "# 𝑒 ≈ 2.718281828459045"
   ]
  },
  {
   "cell_type": "code",
   "execution_count": 13,
   "id": "b7306e81",
   "metadata": {
    "execution": {
     "iopub.execute_input": "2024-08-23T06:21:10.165005Z",
     "iopub.status.busy": "2024-08-23T06:21:10.164531Z",
     "iopub.status.idle": "2024-08-23T06:21:10.169761Z",
     "shell.execute_reply": "2024-08-23T06:21:10.168652Z"
    },
    "papermill": {
     "duration": 0.017061,
     "end_time": "2024-08-23T06:21:10.172207",
     "exception": false,
     "start_time": "2024-08-23T06:21:10.155146",
     "status": "completed"
    },
    "tags": []
   },
   "outputs": [],
   "source": [
    "def softmax(Z):\n",
    "    A = np.exp(Z) / sum(np.exp(Z))\n",
    "    return A\n"
   ]
  },
  {
   "cell_type": "code",
   "execution_count": 14,
   "id": "385a1c87",
   "metadata": {
    "execution": {
     "iopub.execute_input": "2024-08-23T06:21:10.189224Z",
     "iopub.status.busy": "2024-08-23T06:21:10.188770Z",
     "iopub.status.idle": "2024-08-23T06:21:10.194771Z",
     "shell.execute_reply": "2024-08-23T06:21:10.193595Z"
    },
    "papermill": {
     "duration": 0.017234,
     "end_time": "2024-08-23T06:21:10.197131",
     "exception": false,
     "start_time": "2024-08-23T06:21:10.179897",
     "status": "completed"
    },
    "tags": []
   },
   "outputs": [],
   "source": [
    "def forward_prop(W1, b1, W2, b2, X):\n",
    "    Z1 = W1.dot(X) + b1\n",
    "    A1 = ReLU(Z1)\n",
    "    Z2 = W2.dot(A1) + b2\n",
    "    A2 = softmax(Z2)\n",
    "    return Z1, A1, Z2, A2\n",
    "\n",
    "# The forward pass computes the predictions of the network given the input X."
   ]
  },
  {
   "cell_type": "code",
   "execution_count": 15,
   "id": "06cfa3ad",
   "metadata": {
    "execution": {
     "iopub.execute_input": "2024-08-23T06:21:10.214098Z",
     "iopub.status.busy": "2024-08-23T06:21:10.213670Z",
     "iopub.status.idle": "2024-08-23T06:21:10.218718Z",
     "shell.execute_reply": "2024-08-23T06:21:10.217545Z"
    },
    "papermill": {
     "duration": 0.016195,
     "end_time": "2024-08-23T06:21:10.220976",
     "exception": false,
     "start_time": "2024-08-23T06:21:10.204781",
     "status": "completed"
    },
    "tags": []
   },
   "outputs": [],
   "source": [
    "def ReLU_deriv(Z):\n",
    "    return Z > 0\n",
    "\n",
    "# Why: This derivative is used in backpropagation to update weights."
   ]
  },
  {
   "cell_type": "code",
   "execution_count": 16,
   "id": "6ccc1d9d",
   "metadata": {
    "execution": {
     "iopub.execute_input": "2024-08-23T06:21:10.238765Z",
     "iopub.status.busy": "2024-08-23T06:21:10.237581Z",
     "iopub.status.idle": "2024-08-23T06:21:10.244081Z",
     "shell.execute_reply": "2024-08-23T06:21:10.242924Z"
    },
    "papermill": {
     "duration": 0.017871,
     "end_time": "2024-08-23T06:21:10.246423",
     "exception": false,
     "start_time": "2024-08-23T06:21:10.228552",
     "status": "completed"
    },
    "tags": []
   },
   "outputs": [],
   "source": [
    "def one_hot(Y):\n",
    "    one_hot_Y = np.zeros((Y.size, Y.max() + 1))\n",
    "    one_hot_Y[np.arange(Y.size), Y] = 1 \n",
    "    # one_hot_Y is 2d array of zeros, np.arange creates an array with values (0 - size-1) and Y is in input array. Numpy arrays leverages NumPy's advanced indexing, which allows it to iterate through both arrays (np.arange(Y.size) and Y) simultaneously.\n",
    "    \n",
    "    one_hot_Y = one_hot_Y.T\n",
    "    # Transpose Reason - Before transposing, one_hot_Y has a shape of (number of examples, number of classes). This means one_hot_Y is a matrix where each row represents a different example, and each column represents a different class.\n",
    "    # In the context of neural networks, especially when working with matrices, it’s often more convenient to have the columns represent different examples rather than rows.\n",
    "    \n",
    "    return one_hot_Y\n",
    "\n",
    "# 1 at the correct label digit. eg: if digit is 2 then 0, 0 ,1, 0 ,0 ,0, 0, 0, 0, 0"
   ]
  },
  {
   "cell_type": "code",
   "execution_count": 17,
   "id": "d3376093",
   "metadata": {
    "execution": {
     "iopub.execute_input": "2024-08-23T06:21:10.263355Z",
     "iopub.status.busy": "2024-08-23T06:21:10.262934Z",
     "iopub.status.idle": "2024-08-23T06:21:10.271490Z",
     "shell.execute_reply": "2024-08-23T06:21:10.270381Z"
    },
    "papermill": {
     "duration": 0.019593,
     "end_time": "2024-08-23T06:21:10.273594",
     "exception": false,
     "start_time": "2024-08-23T06:21:10.254001",
     "status": "completed"
    },
    "tags": []
   },
   "outputs": [
    {
     "data": {
      "text/plain": [
       "array([[0., 0., 0., 0., 0.],\n",
       "       [1., 0., 0., 0., 0.],\n",
       "       [0., 1., 0., 0., 0.],\n",
       "       [0., 0., 1., 0., 0.],\n",
       "       [0., 0., 0., 0., 0.],\n",
       "       [0., 0., 0., 0., 1.],\n",
       "       [0., 0., 0., 0., 0.],\n",
       "       [0., 0., 0., 0., 0.],\n",
       "       [0., 0., 0., 0., 0.],\n",
       "       [0., 0., 0., 1., 0.]])"
      ]
     },
     "execution_count": 17,
     "metadata": {},
     "output_type": "execute_result"
    }
   ],
   "source": [
    "one_hot(np.array([1, 2, 3, 9, 5]))\n",
    "\n",
    "# maximum is 5 so 6 rows are created 0-5 and for each value the particular index is marked as one. eg: if zero would have been there at third index then third index of zeroth row would be 1."
   ]
  },
  {
   "cell_type": "code",
   "execution_count": 18,
   "id": "c5743ba6",
   "metadata": {
    "execution": {
     "iopub.execute_input": "2024-08-23T06:21:10.290821Z",
     "iopub.status.busy": "2024-08-23T06:21:10.290392Z",
     "iopub.status.idle": "2024-08-23T06:21:10.297333Z",
     "shell.execute_reply": "2024-08-23T06:21:10.296262Z"
    },
    "papermill": {
     "duration": 0.017995,
     "end_time": "2024-08-23T06:21:10.299457",
     "exception": false,
     "start_time": "2024-08-23T06:21:10.281462",
     "status": "completed"
    },
    "tags": []
   },
   "outputs": [
    {
     "data": {
      "text/plain": [
       "array([8, 8, 9, ..., 9, 0, 5], dtype=int64)"
      ]
     },
     "execution_count": 18,
     "metadata": {},
     "output_type": "execute_result"
    }
   ],
   "source": [
    "Y_train"
   ]
  },
  {
   "cell_type": "code",
   "execution_count": 19,
   "id": "6dbfc548",
   "metadata": {
    "execution": {
     "iopub.execute_input": "2024-08-23T06:21:10.316695Z",
     "iopub.status.busy": "2024-08-23T06:21:10.316258Z",
     "iopub.status.idle": "2024-08-23T06:21:10.322998Z",
     "shell.execute_reply": "2024-08-23T06:21:10.321889Z"
    },
    "papermill": {
     "duration": 0.018098,
     "end_time": "2024-08-23T06:21:10.325250",
     "exception": false,
     "start_time": "2024-08-23T06:21:10.307152",
     "status": "completed"
    },
    "tags": []
   },
   "outputs": [],
   "source": [
    "def backward_prop(Z1, A1, Z2, A2, W1, W2, X, Y):\n",
    "    one_hot_Y = one_hot(Y)\n",
    "    dZ2 = A2 - one_hot_Y\n",
    "    dW2 = 1 / m * dZ2.dot(A1.T)\n",
    "    db2 = 1 / m * np.sum(dZ2)\n",
    "    dZ1 = W2.T.dot(dZ2) * ReLU_deriv(Z1)\n",
    "    dW1 = 1 / m * dZ1.dot(X.T)\n",
    "    db1 = 1 / m * np.sum(dZ1)\n",
    "    return dW1, db1, dW2, db2"
   ]
  },
  {
   "cell_type": "code",
   "execution_count": 20,
   "id": "a0fe7113",
   "metadata": {
    "execution": {
     "iopub.execute_input": "2024-08-23T06:21:10.343654Z",
     "iopub.status.busy": "2024-08-23T06:21:10.342291Z",
     "iopub.status.idle": "2024-08-23T06:21:10.348905Z",
     "shell.execute_reply": "2024-08-23T06:21:10.347704Z"
    },
    "papermill": {
     "duration": 0.018112,
     "end_time": "2024-08-23T06:21:10.351301",
     "exception": false,
     "start_time": "2024-08-23T06:21:10.333189",
     "status": "completed"
    },
    "tags": []
   },
   "outputs": [],
   "source": [
    "def update_params(W1, b1, W2, b2, dW1, db1, dW2, db2, alpha):\n",
    "    W1 = W1 - alpha * dW1\n",
    "    b1 = b1 - alpha * db1    \n",
    "    W2 = W2 - alpha * dW2  \n",
    "    b2 = b2 - alpha * db2    \n",
    "    return W1, b1, W2, b2"
   ]
  },
  {
   "cell_type": "code",
   "execution_count": 21,
   "id": "5ed0e8a0",
   "metadata": {
    "execution": {
     "iopub.execute_input": "2024-08-23T06:21:10.368872Z",
     "iopub.status.busy": "2024-08-23T06:21:10.368419Z",
     "iopub.status.idle": "2024-08-23T06:21:10.373852Z",
     "shell.execute_reply": "2024-08-23T06:21:10.372903Z"
    },
    "papermill": {
     "duration": 0.016843,
     "end_time": "2024-08-23T06:21:10.376076",
     "exception": false,
     "start_time": "2024-08-23T06:21:10.359233",
     "status": "completed"
    },
    "tags": []
   },
   "outputs": [],
   "source": [
    "def get_predictions(A2):\n",
    "    return np.argmax(A2, 0)\n",
    "\n",
    "\n",
    "# This function is used to determine the predicted class for each example after forward propagation.\n",
    "# if A2 is A2 = np.array([[0.1, 0.2, 0.4],\n",
    "                    #    [0.6, 0.5, 0.3],\n",
    "                    #    [0.3, 0.3, 0.3]])\n",
    "# The function would return [1, 1, 0] because the highest probability for the first and second examples is in the second row (index 1), and for the third example, it's in the first row (index 0)."
   ]
  },
  {
   "cell_type": "code",
   "execution_count": 22,
   "id": "1a4ff62d",
   "metadata": {
    "execution": {
     "iopub.execute_input": "2024-08-23T06:21:10.393407Z",
     "iopub.status.busy": "2024-08-23T06:21:10.393001Z",
     "iopub.status.idle": "2024-08-23T06:21:10.398707Z",
     "shell.execute_reply": "2024-08-23T06:21:10.397421Z"
    },
    "papermill": {
     "duration": 0.017313,
     "end_time": "2024-08-23T06:21:10.401191",
     "exception": false,
     "start_time": "2024-08-23T06:21:10.383878",
     "status": "completed"
    },
    "tags": []
   },
   "outputs": [],
   "source": [
    "def get_accuracy(predictions, Y):\n",
    "    print(predictions, Y)\n",
    "    return np.sum(predictions == Y) / Y.size\n",
    "\n",
    "#This is simple to understand, total correct predictions divided by total predictions"
   ]
  },
  {
   "cell_type": "code",
   "execution_count": 23,
   "id": "ae67c413",
   "metadata": {
    "execution": {
     "iopub.execute_input": "2024-08-23T06:21:10.418706Z",
     "iopub.status.busy": "2024-08-23T06:21:10.418239Z",
     "iopub.status.idle": "2024-08-23T06:21:10.425974Z",
     "shell.execute_reply": "2024-08-23T06:21:10.424705Z"
    },
    "papermill": {
     "duration": 0.019183,
     "end_time": "2024-08-23T06:21:10.428293",
     "exception": false,
     "start_time": "2024-08-23T06:21:10.409110",
     "status": "completed"
    },
    "tags": []
   },
   "outputs": [],
   "source": [
    "def gradient_descent(X, Y, alpha, iterations):\n",
    "    W1, b1, W2, b2 = init_params()\n",
    "    for i in range(iterations):\n",
    "        Z1, A1, Z2, A2 = forward_prop(W1, b1, W2, b2, X)\n",
    "        dW1, db1, dW2, db2 = backward_prop(Z1, A1, Z2, A2, W1, W2, X, Y)\n",
    "        W1, b1, W2, b2 = update_params(W1, b1, W2, b2, dW1, db1, dW2, db2, alpha)\n",
    "        if i % 10 == 0:\n",
    "            print(\"Iteration: \", i)\n",
    "            predictions = get_predictions(A2)\n",
    "            print(get_accuracy(predictions, Y))\n",
    "    return W1, b1, W2, b2\n",
    "\n",
    "\n",
    "# Putting everything together for gradient descent"
   ]
  },
  {
   "cell_type": "code",
   "execution_count": 24,
   "id": "137f9cfb",
   "metadata": {
    "execution": {
     "iopub.execute_input": "2024-08-23T06:21:10.445925Z",
     "iopub.status.busy": "2024-08-23T06:21:10.445483Z",
     "iopub.status.idle": "2024-08-23T06:22:03.392454Z",
     "shell.execute_reply": "2024-08-23T06:22:03.391188Z"
    },
    "papermill": {
     "duration": 52.960113,
     "end_time": "2024-08-23T06:22:03.396398",
     "exception": false,
     "start_time": "2024-08-23T06:21:10.436285",
     "status": "completed"
    },
    "tags": []
   },
   "outputs": [
    {
     "name": "stdout",
     "output_type": "stream",
     "text": [
      "Iteration:  0\n",
      "[5 9 5 ... 5 2 3] [8 8 9 ... 9 0 5]\n",
      "0.12109756097560975\n",
      "Iteration:  10\n",
      "[5 7 8 ... 8 2 3] [8 8 9 ... 9 0 5]\n",
      "0.2338048780487805\n",
      "Iteration:  20\n",
      "[5 1 8 ... 8 0 3] [8 8 9 ... 9 0 5]\n",
      "0.3485121951219512\n",
      "Iteration:  30\n",
      "[5 1 8 ... 8 0 6] [8 8 9 ... 9 0 5]\n",
      "0.4065121951219512\n",
      "Iteration:  40\n",
      "[5 1 8 ... 8 0 6] [8 8 9 ... 9 0 5]\n",
      "0.46126829268292685\n",
      "Iteration:  50\n",
      "[3 1 9 ... 8 0 5] [8 8 9 ... 9 0 5]\n",
      "0.5393414634146342\n",
      "Iteration:  60\n",
      "[3 2 9 ... 8 0 5] [8 8 9 ... 9 0 5]\n",
      "0.584\n",
      "Iteration:  70\n",
      "[8 8 9 ... 7 0 5] [8 8 9 ... 9 0 5]\n",
      "0.6146829268292683\n",
      "Iteration:  80\n",
      "[8 8 9 ... 7 0 5] [8 8 9 ... 9 0 5]\n",
      "0.6389756097560976\n",
      "Iteration:  90\n",
      "[8 8 9 ... 7 0 5] [8 8 9 ... 9 0 5]\n",
      "0.6599756097560976\n",
      "Iteration:  100\n",
      "[8 8 9 ... 7 0 5] [8 8 9 ... 9 0 5]\n",
      "0.6753414634146342\n",
      "Iteration:  110\n",
      "[8 8 9 ... 7 0 5] [8 8 9 ... 9 0 5]\n",
      "0.6889268292682926\n",
      "Iteration:  120\n",
      "[8 8 9 ... 7 0 5] [8 8 9 ... 9 0 5]\n",
      "0.6996585365853658\n",
      "Iteration:  130\n",
      "[8 8 9 ... 7 0 5] [8 8 9 ... 9 0 5]\n",
      "0.71\n",
      "Iteration:  140\n",
      "[8 8 9 ... 7 0 5] [8 8 9 ... 9 0 5]\n",
      "0.7185609756097561\n",
      "Iteration:  150\n",
      "[8 8 9 ... 7 0 5] [8 8 9 ... 9 0 5]\n",
      "0.726170731707317\n",
      "Iteration:  160\n",
      "[8 8 9 ... 7 0 5] [8 8 9 ... 9 0 5]\n",
      "0.7333414634146341\n",
      "Iteration:  170\n",
      "[8 8 9 ... 7 0 5] [8 8 9 ... 9 0 5]\n",
      "0.7401951219512195\n",
      "Iteration:  180\n",
      "[8 8 9 ... 7 0 5] [8 8 9 ... 9 0 5]\n",
      "0.7455365853658537\n",
      "Iteration:  190\n",
      "[8 8 9 ... 7 0 5] [8 8 9 ... 9 0 5]\n",
      "0.7514146341463415\n",
      "Iteration:  200\n",
      "[8 8 9 ... 7 0 5] [8 8 9 ... 9 0 5]\n",
      "0.756\n",
      "Iteration:  210\n",
      "[8 8 9 ... 7 0 5] [8 8 9 ... 9 0 5]\n",
      "0.7603658536585366\n",
      "Iteration:  220\n",
      "[8 8 9 ... 9 0 5] [8 8 9 ... 9 0 5]\n",
      "0.7651951219512195\n",
      "Iteration:  230\n",
      "[8 8 9 ... 9 0 5] [8 8 9 ... 9 0 5]\n",
      "0.7695609756097561\n",
      "Iteration:  240\n",
      "[8 8 9 ... 9 0 5] [8 8 9 ... 9 0 5]\n",
      "0.7734878048780488\n",
      "Iteration:  250\n",
      "[8 8 9 ... 9 0 5] [8 8 9 ... 9 0 5]\n",
      "0.7772439024390244\n",
      "Iteration:  260\n",
      "[8 8 9 ... 9 0 5] [8 8 9 ... 9 0 5]\n",
      "0.7810975609756098\n",
      "Iteration:  270\n",
      "[8 8 9 ... 9 0 5] [8 8 9 ... 9 0 5]\n",
      "0.7842682926829269\n",
      "Iteration:  280\n",
      "[8 8 9 ... 9 0 5] [8 8 9 ... 9 0 5]\n",
      "0.7874878048780488\n",
      "Iteration:  290\n",
      "[8 8 9 ... 9 0 5] [8 8 9 ... 9 0 5]\n",
      "0.791219512195122\n",
      "Iteration:  300\n",
      "[8 8 9 ... 9 0 5] [8 8 9 ... 9 0 5]\n",
      "0.7937804878048781\n",
      "Iteration:  310\n",
      "[8 8 9 ... 9 0 5] [8 8 9 ... 9 0 5]\n",
      "0.7972926829268293\n",
      "Iteration:  320\n",
      "[8 8 9 ... 9 0 5] [8 8 9 ... 9 0 5]\n",
      "0.800219512195122\n",
      "Iteration:  330\n",
      "[8 8 9 ... 9 0 5] [8 8 9 ... 9 0 5]\n",
      "0.8029512195121952\n",
      "Iteration:  340\n",
      "[8 8 9 ... 9 0 5] [8 8 9 ... 9 0 5]\n",
      "0.8054878048780488\n",
      "Iteration:  350\n",
      "[8 8 9 ... 9 0 5] [8 8 9 ... 9 0 5]\n",
      "0.8085365853658537\n",
      "Iteration:  360\n",
      "[8 8 9 ... 9 0 5] [8 8 9 ... 9 0 5]\n",
      "0.8112682926829269\n",
      "Iteration:  370\n",
      "[8 8 9 ... 9 0 5] [8 8 9 ... 9 0 5]\n",
      "0.814\n",
      "Iteration:  380\n",
      "[8 8 9 ... 9 0 5] [8 8 9 ... 9 0 5]\n",
      "0.8166829268292682\n",
      "Iteration:  390\n",
      "[8 8 9 ... 9 0 5] [8 8 9 ... 9 0 5]\n",
      "0.8188536585365853\n",
      "Iteration:  400\n",
      "[8 8 9 ... 9 0 5] [8 8 9 ... 9 0 5]\n",
      "0.8206829268292682\n",
      "Iteration:  410\n",
      "[8 8 9 ... 9 0 5] [8 8 9 ... 9 0 5]\n",
      "0.8229268292682926\n",
      "Iteration:  420\n",
      "[8 8 9 ... 9 0 5] [8 8 9 ... 9 0 5]\n",
      "0.8252682926829268\n",
      "Iteration:  430\n",
      "[8 8 9 ... 9 0 5] [8 8 9 ... 9 0 5]\n",
      "0.8272439024390243\n",
      "Iteration:  440\n",
      "[8 8 9 ... 9 0 5] [8 8 9 ... 9 0 5]\n",
      "0.8290975609756097\n",
      "Iteration:  450\n",
      "[8 8 9 ... 9 0 5] [8 8 9 ... 9 0 5]\n",
      "0.8310243902439024\n",
      "Iteration:  460\n",
      "[8 8 9 ... 9 0 5] [8 8 9 ... 9 0 5]\n",
      "0.8331219512195122\n",
      "Iteration:  470\n",
      "[8 8 9 ... 9 0 5] [8 8 9 ... 9 0 5]\n",
      "0.8353170731707317\n",
      "Iteration:  480\n",
      "[8 8 9 ... 9 0 5] [8 8 9 ... 9 0 5]\n",
      "0.8366341463414634\n",
      "Iteration:  490\n",
      "[8 8 9 ... 9 0 5] [8 8 9 ... 9 0 5]\n",
      "0.8379512195121951\n"
     ]
    }
   ],
   "source": [
    "W1, b1, W2, b2 = gradient_descent(X_train, Y_train, 0.10, 500)\n",
    "# Learning Rate = 0.1, you can adjust as per needs.\n",
    "# 500 Iterations "
   ]
  },
  {
   "cell_type": "code",
   "execution_count": 25,
   "id": "5699b409",
   "metadata": {
    "execution": {
     "iopub.execute_input": "2024-08-23T06:22:03.436798Z",
     "iopub.status.busy": "2024-08-23T06:22:03.436247Z",
     "iopub.status.idle": "2024-08-23T06:22:03.449857Z",
     "shell.execute_reply": "2024-08-23T06:22:03.447849Z"
    },
    "papermill": {
     "duration": 0.038377,
     "end_time": "2024-08-23T06:22:03.453870",
     "exception": false,
     "start_time": "2024-08-23T06:22:03.415493",
     "status": "completed"
    },
    "tags": []
   },
   "outputs": [],
   "source": [
    "def make_predictions(X, W1, b1, W2, b2):\n",
    "    _, _, _, A2 = forward_prop(W1, b1, W2, b2, X)\n",
    "    predictions = get_predictions(A2)\n",
    "    return predictions\n",
    "\n",
    "def test_prediction(index, W1, b1, W2, b2):\n",
    "    current_image = X_train[:, index, None]\n",
    "    prediction = make_predictions(X_train[:, index, None], W1, b1, W2, b2)\n",
    "    label = Y_train[index]\n",
    "    print(\"Prediction: \", prediction)\n",
    "    print(\"Label: \", label)\n",
    "\n",
    "    current_image = current_image.reshape((28, 28)) * 255\n",
    "    plt.gray()\n",
    "    plt.imshow(current_image, interpolation='nearest')\n",
    "    plt.show()\n",
    "\n",
    "# The reshape((28, 28)) function reshapes the current_image array into a 28x28 2D array (matrix), which corresponds to the original dimensions of the image.\n",
    "# The pixel values in the current_image array are likely normalized (i.e., values range between 0 and 1).\n",
    "# Multiplying by 255 scales these values back to the standard grayscale range of 0 to 255, where 0 represents black and 255 represents white."
   ]
  },
  {
   "cell_type": "code",
   "execution_count": 26,
   "id": "1e2d2e77",
   "metadata": {
    "execution": {
     "iopub.execute_input": "2024-08-23T06:22:03.492704Z",
     "iopub.status.busy": "2024-08-23T06:22:03.492141Z",
     "iopub.status.idle": "2024-08-23T06:22:04.257394Z",
     "shell.execute_reply": "2024-08-23T06:22:04.256245Z"
    },
    "papermill": {
     "duration": 0.787637,
     "end_time": "2024-08-23T06:22:04.259832",
     "exception": false,
     "start_time": "2024-08-23T06:22:03.472195",
     "status": "completed"
    },
    "tags": []
   },
   "outputs": [
    {
     "name": "stdout",
     "output_type": "stream",
     "text": [
      "Prediction:  [9]\n",
      "Label:  9\n"
     ]
    },
    {
     "data": {
      "image/png": "[encoded data removed]",
      "text/plain": [
       "<Figure size 640x480 with 1 Axes>"
      ]
     },
     "metadata": {},
     "output_type": "display_data"
    },
    {
     "name": "stdout",
     "output_type": "stream",
     "text": [
      "Prediction:  [9]\n",
      "Label:  9\n"
     ]
    },
    {
     "data": {
      "image/png": "[encoded data removed]",
      "text/plain": [
       "<Figure size 640x480 with 1 Axes>"
      ]
     },
     "metadata": {},
     "output_type": "display_data"
    },
    {
     "name": "stdout",
     "output_type": "stream",
     "text": [
      "Prediction:  [0]\n",
      "Label:  0\n"
     ]
    },
    {
     "data": {
      "image/png": "[encoded data removed]",
      "text/plain": [
       "<Figure size 640x480 with 1 Axes>"
      ]
     },
     "metadata": {},
     "output_type": "display_data"
    },
    {
     "name": "stdout",
     "output_type": "stream",
     "text": [
      "Prediction:  [8]\n",
      "Label:  9\n"
     ]
    },
    {
     "data": {
      "image/png": "[encoded data removed]",
      "text/plain": [
       "<Figure size 640x480 with 1 Axes>"
      ]
     },
     "metadata": {},
     "output_type": "display_data"
    }
   ],
   "source": [
    "test_prediction(2, W1, b1, W2, b2)\n",
    "test_prediction(5, W1, b1, W2, b2)\n",
    "test_prediction(7, W1, b1, W2, b2)\n",
    "test_prediction(12, W1, b1, W2, b2)"
   ]
  },
  {
   "cell_type": "code",
   "execution_count": null,
   "id": "4a0f1700",
   "metadata": {
    "papermill": {
     "duration": 0.012041,
     "end_time": "2024-08-23T06:22:04.284272",
     "exception": false,
     "start_time": "2024-08-23T06:22:04.272231",
     "status": "completed"
    },
    "tags": []
   },
   "outputs": [],
   "source": []
  }
 ],
 "metadata": {
  "kaggle": {
   "accelerator": "none",
   "dataSources": [
    {
     "databundleVersionId": 861823,
     "sourceId": 3004,
     "sourceType": "competition"
    }
   ],
   "dockerImageVersionId": 30761,
   "isGpuEnabled": false,
   "isInternetEnabled": true,
   "language": "python",
   "sourceType": "notebook"
  },
  "kernelspec": {
   "display_name": "Python 3",
   "language": "python",
   "name": "python3"
  },
  "language_info": {
   "codemirror_mode": {
    "name": "ipython",
    "version": 3
   },
   "file_extension": ".py",
   "mimetype": "text/x-python",
   "name": "python",
   "nbconvert_exporter": "python",
   "pygments_lexer": "ipython3",
   "version": "3.12.7"
  },
  "papermill": {
   "default_parameters": {},
   "duration": 62.523787,
   "end_time": "2024-08-23T06:22:04.817865",
   "environment_variables": {},
   "exception": null,
   "input_path": "__notebook__.ipynb",
   "output_path": "__notebook__.ipynb",
   "parameters": {},
   "start_time": "2024-08-23T06:21:02.294078",
   "version": "2.6.0"
  }
 },
 "nbformat": 4,
 "nbformat_minor": 5
}
